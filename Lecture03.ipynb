{
  "nbformat": 4,
  "nbformat_minor": 0,
  "metadata": {
    "colab": {
      "provenance": []
    },
    "kernelspec": {
      "name": "python3",
      "display_name": "Python 3"
    },
    "language_info": {
      "name": "python"
    }
  },
  "cells": [
    {
      "cell_type": "code",
      "source": [
        "import numpy as np\n",
        "from astropy import constants, units\n",
        "import matplotlib.pyplot as plt"
      ],
      "metadata": {
        "id": "3ve_wzWw3dCf"
      },
      "execution_count": null,
      "outputs": []
    },
    {
      "cell_type": "markdown",
      "source": [
        "### Temperature dependence of the excitation fraction (assuming no ionisation)\n",
        "##### The gas of hydrogen atoms is assumed to consist of two states: the ground state (n=1) and the first excited state (n=2)."
      ],
      "metadata": {
        "id": "SCW2s6aBQ_pS"
      }
    },
    {
      "cell_type": "code",
      "source": [
        "# Excitation fraction from the Boltzmann Equation\n",
        "T = np.geomspace(3000, 100000, num=100) * units.K\n",
        "IP = 0.5 * constants.alpha**2 * constants.m_e * constants.c**2\n",
        "N2_by_N1 = (2 * 2**2) / (2 * 1**2) * np.exp(-IP * (1 / 1**2 - 1 / 2**2) / constants.k_B / T)"
      ],
      "metadata": {
        "id": "9QKQgtw1Agk2"
      },
      "execution_count": null,
      "outputs": []
    },
    {
      "cell_type": "code",
      "source": [
        "N2_by_Ntot = N2_by_N1 / (1 + N2_by_N1)\n",
        "\n",
        "plt.plot(T, N2_by_N1)\n",
        "plt.xlabel(r'$T$ [K]')\n",
        "plt.ylabel(r'$N_{2}/N_{tot}$')\n",
        "plt.xscale('log')\n",
        "plt.yscale('log')\n",
        "plt.ylim(1e-15, 4)"
      ],
      "metadata": {
        "colab": {
          "base_uri": "https://localhost:8080/",
          "height": 474
        },
        "id": "KN3Fwct1A2NW",
        "outputId": "bc1bce02-92a3-4ea2-e30f-22a7325442c1"
      },
      "execution_count": null,
      "outputs": [
        {
          "output_type": "execute_result",
          "data": {
            "text/plain": [
              "(1e-15, 4)"
            ]
          },
          "metadata": {},
          "execution_count": 3
        },
        {
          "output_type": "display_data",
          "data": {
            "text/plain": [
              "<Figure size 640x480 with 1 Axes>"
            ],
            "image/png": "[encoded data removed]"
          },
          "metadata": {}
        }
      ]
    },
    {
      "cell_type": "markdown",
      "source": [
        "### According to the Boltzmann Equation, the excitation fraction increases with temperature. As the temperature approaches infinity, the fraction tends to the ratio of the degeneracies of the two states. In this case, that value is 4 ($\\frac{2 \\times 2^2}{2 \\times 1^2}$)."
      ],
      "metadata": {
        "id": "nojzVb62RZ06"
      }
    },
    {
      "cell_type": "markdown",
      "source": [
        "### Pressure ionisation determines the highest excited state of the hydrogen atom.\n",
        "##### Given the density of atoms, we can compute the Debye screening length and compare it to the size expected for each atom based on the Bohr Model.\n",
        "##### The radius of the Bohr atom with $m_{\\rm max}$ energy levels must be at most equal to the Debye screening length $\\lambda_{\\rm D}$."
      ],
      "metadata": {
        "id": "Okhc_L5ASPcx"
      }
    },
    {
      "cell_type": "code",
      "source": [
        "import numpy as np\n",
        "from astropy import constants, units\n",
        "def Bohr_radius(m_max):\n",
        "    return constants.a0 * m_max**2\n",
        "\n",
        "\n",
        "def Debye_length(n, T):\n",
        "    return np.sqrt(constants.eps0 * constants.k_B * T / n / constants.e.si**2)\n",
        "\n",
        "n = np.array([1e31, 1e6]) * units.m**-3\n",
        "T = np.array([1e7, 5770]) * units.K\n",
        "\n",
        "for nn, tt in zip(n, T):\n",
        "    print(f'm_max for n = {nn}, T = {tt}: {np.sqrt(Debye_length(nn, tt) / constants.a0).to(\"\")}')"
      ],
      "metadata": {
        "colab": {
          "base_uri": "https://localhost:8080/"
        },
        "id": "8bin4cq1SSH5",
        "outputId": "122f9c85-90f3-482d-8049-a555047ffd34"
      },
      "execution_count": null,
      "outputs": [
        {
          "output_type": "stream",
          "name": "stdout",
          "text": [
            "m_max for n = 1e+31 1 / m3, T = 10000000.0 K: 1.141963544164133\n",
            "m_max for n = 1000000.0 1 / m3, T = 5770.0 K: 314735.8347960688\n"
          ]
        }
      ]
    },
    {
      "cell_type": "code",
      "source": [],
      "metadata": {
        "id": "a11y0evfzYdL"
      },
      "execution_count": null,
      "outputs": []
    }
  ]
}